{
 "cells": [
  {
   "cell_type": "code",
   "execution_count": 1,
   "metadata": {
    "_cell_guid": "f242a083-05ba-b159-27a7-39d910db0969"
   },
   "outputs": [
    {
     "name": "stdout",
     "output_type": "stream",
     "text": [
      "test.csv\n",
      "train.csv\n",
      "\n"
     ]
    }
   ],
   "source": [
    "import numpy as np # linear algebra\n",
    "import pandas as pd # data processing, CSV file I/O (e.g. pd.read_csv)\n",
    "\n",
    "from sklearn.feature_extraction.text import TfidfVectorizer, CountVectorizer\n",
    "from sklearn.model_selection import train_test_split\n",
    "from sklearn.metrics import log_loss\n",
    "\n",
    "import xgboost as xgb\n",
    "import multiprocessing\n",
    "import difflib\n",
    "from nltk.corpus import stopwords\n",
    "from nltk.metrics import jaccard_distance\n",
    "\n",
    "import seaborn as sns\n",
    "import matplotlib.pyplot as plt\n",
    "%matplotlib inline\n",
    "\n",
    "\n",
    "from subprocess import check_output\n",
    "print(check_output([\"ls\", \"../input\"]).decode(\"utf8\"))"
   ]
  },
  {
   "cell_type": "code",
   "execution_count": 2,
   "metadata": {
    "_cell_guid": "22167632-675f-144b-841c-07cf481b15ce"
   },
   "outputs": [],
   "source": [
    "df_train = pd.read_csv(\"../input/train.csv\").fillna(\"\")\n",
    "df_test = pd.read_csv(\"../input/test.csv\").fillna(\"\")"
   ]
  },
  {
   "cell_type": "code",
   "execution_count": 3,
   "metadata": {
    "_cell_guid": "8098140b-6a85-01cd-2af7-8722db432858"
   },
   "outputs": [],
   "source": [
    "stops = set(stopwords.words(\"english\"))"
   ]
  },
  {
   "cell_type": "code",
   "execution_count": 4,
   "metadata": {
    "_cell_guid": "236c8036-d179-6682-d4b5-75ff89cf4fc2"
   },
   "outputs": [],
   "source": [
    "def build_dict(sentences):\n",
    "#    from collections import OrderedDict\n",
    "\n",
    "    '''\n",
    "    Build dictionary of train words\n",
    "    Outputs: \n",
    "     - Dictionary of word --> word index\n",
    "     - Dictionary of word --> word count freq\n",
    "    '''\n",
    "    print('Building dictionary..'),\n",
    "    wordcount = dict()\n",
    "    #For each worn in each sentence, cummulate frequency\n",
    "    for ss in sentences:\n",
    "        for w in ss:\n",
    "            if w not in wordcount:\n",
    "                wordcount[w] = 1\n",
    "            else:\n",
    "                wordcount[w] += 1\n",
    "    \n",
    "    worddict = dict()\n",
    "    for idx, w in enumerate(sorted(wordcount.items(), key = lambda x: x[1], reverse=True)):\n",
    "        worddict[w[0]] = idx+2  # leave 0 and 1 (UNK)\n",
    "\n",
    "    return worddict, wordcount"
   ]
  },
  {
   "cell_type": "code",
   "execution_count": 5,
   "metadata": {
    "_cell_guid": "01724463-524c-9b31-cfdd-69ccb8b1a2bd"
   },
   "outputs": [],
   "source": [
    "def generate_sequence(sentences, dictionary):\n",
    "    '''\n",
    "    Convert tokenized text in sequences of integers\n",
    "    '''\n",
    "    seqs = [None] * len(sentences)\n",
    "    for idx, ss in enumerate(sentences):\n",
    "        seqs[idx] = [dictionary[w] if w in dictionary else 1 for w in ss]\n",
    "\n",
    "    return seqs"
   ]
  },
  {
   "cell_type": "code",
   "execution_count": 6,
   "metadata": {
    "_cell_guid": "579358de-6598-85f6-0e8f-a8651e666fb4"
   },
   "outputs": [],
   "source": [
    "def normalize(x):\n",
    "    return x.lower().split()"
   ]
  },
  {
   "cell_type": "code",
   "execution_count": 7,
   "metadata": {
    "_cell_guid": "51bb0ff4-8968-9b68-fa28-e61235784ba2"
   },
   "outputs": [],
   "source": [
    "questions = df_train['question1'].tolist() + df_train['question2'].tolist()"
   ]
  },
  {
   "cell_type": "code",
   "execution_count": 8,
   "metadata": {
    "_cell_guid": "c8adbefe-a4c9-f782-4340-831b8f5f533f"
   },
   "outputs": [
    {
     "name": "stdout",
     "output_type": "stream",
     "text": [
      "Building dictionary..\n"
     ]
    }
   ],
   "source": [
    "tok_questions = [normalize(s) for s in questions]\n",
    "worddict, wordcount = build_dict(tok_questions)"
   ]
  },
  {
   "cell_type": "code",
   "execution_count": 9,
   "metadata": {
    "_cell_guid": "427582b8-6f3c-d1c6-0315-f89d4a9069ad"
   },
   "outputs": [
    {
     "name": "stdout",
     "output_type": "stream",
     "text": [
      "8944591  total words  201102  unique words\n"
     ]
    }
   ],
   "source": [
    "print(np.sum(list(wordcount.values())), ' total words ', len(worddict), ' unique words')"
   ]
  },
  {
   "cell_type": "code",
   "execution_count": 10,
   "metadata": {
    "_cell_guid": "928a56ac-2a27-395c-f4e4-55a5fcb197f7"
   },
   "outputs": [],
   "source": [
    "def jc(x):\n",
    "    return jaccard_distance(set(x['s_question1']),set(x['s_question2']))"
   ]
  },
  {
   "cell_type": "code",
   "execution_count": 11,
   "metadata": {
    "_cell_guid": "fbbf221e-7181-e565-4967-d58a60acca8c"
   },
   "outputs": [],
   "source": [
    "def cosine_d(x):\n",
    "    a = set(x['s_question1'])\n",
    "    b = set(x['s_question2'])\n",
    "    d = len(a)*len(b)\n",
    "    if (d == 0):\n",
    "        return 0\n",
    "    else: \n",
    "        return len(a.intersection(b))/d"
   ]
  },
  {
   "cell_type": "code",
   "execution_count": 12,
   "metadata": {
    "_cell_guid": "1fc3f5f8-c8b5-1f50-fcf3-1778d2aab26d"
   },
   "outputs": [
    {
     "data": {
      "text/plain": [
       "<808580x85847 sparse matrix of type '<class 'numpy.float64'>'\n",
       "\twith 4075659 stored elements in Compressed Sparse Row format>"
      ]
     },
     "execution_count": 12,
     "metadata": {},
     "output_type": "execute_result"
    }
   ],
   "source": [
    "tfidf = TfidfVectorizer(stop_words='english', ngram_range=(1, 1))\n",
    "tfidf.fit_transform(questions)"
   ]
  },
  {
   "cell_type": "code",
   "execution_count": 13,
   "metadata": {
    "_cell_guid": "f9c93a97-17e1-04a0-6d4c-d159fd946c1f"
   },
   "outputs": [],
   "source": [
    "def diff_ratios(st1, st2):\n",
    "    seq = difflib.SequenceMatcher()\n",
    "    seq.set_seqs(str(st1).lower(), str(st2).lower())\n",
    "    return seq.quick_ratio()\n",
    "\n",
    "def word_match_share(row):\n",
    "    q1words = {}\n",
    "    q2words = {}\n",
    "    for word in str(row['question1']).lower().split():\n",
    "        if word not in stops:\n",
    "            q1words[word] = 1\n",
    "    for word in str(row['question2']).lower().split():\n",
    "        if word not in stops:\n",
    "            q2words[word] = 1\n",
    "    if len(q1words) == 0 or len(q2words) == 0:\n",
    "        return 0\n",
    "    shared_words_in_q1 = [w for w in q1words.keys() if w in q2words]\n",
    "    shared_words_in_q2 = [w for w in q2words.keys() if w in q1words]\n",
    "    R = (len(shared_words_in_q1) + len(shared_words_in_q2))/(len(q1words) + len(q2words))\n",
    "    return R"
   ]
  },
  {
   "cell_type": "code",
   "execution_count": 14,
   "metadata": {
    "_cell_guid": "d63bec19-3ccf-6467-cc04-88f838c748b0"
   },
   "outputs": [],
   "source": [
    "def get_features(df_features):\n",
    "    \n",
    "    print('jaccard...')\n",
    "    df_features['s_question1'] = generate_sequence(df_features['question1'].apply(normalize),worddict)\n",
    "    df_features['s_question2'] = generate_sequence(df_features['question2'].apply(normalize),worddict)\n",
    "    df_features['z_jaccard'] = df_features.apply(jc,axis = 1)\n",
    "    \n",
    "    print('cosine....')\n",
    "    df_features['z_cosine'] = df_features.apply(cosine_d,axis = 1)\n",
    "    \n",
    "    print('length....')\n",
    "    df_features['z_len1'] = df_features.question1.map(lambda x: len(str(x)))\n",
    "    df_features['z_len2'] = df_features.question2.map(lambda x: len(str(x)))\n",
    "    df_features['z_word_len1'] = df_features.question1.map(lambda x: len(str(x).split()))\n",
    "    df_features['z_word_len2'] = df_features.question2.map(lambda x: len(str(x).split())) \n",
    "    \n",
    "    print('difflib...')\n",
    "    df_features['z_match_ratio'] = df_features.apply(lambda r: diff_ratios(r.question1, r.question2), axis=1)  #takes long\n",
    "    \n",
    "    print('word match...')\n",
    "    df_features['z_word_match'] = df_features.apply(word_match_share, axis=1, raw=True)\n",
    "    \n",
    "    print('tfidf...')\n",
    "    question1_tfidf = tfidf.transform(df_features.question1.tolist())\n",
    "    question2_tfidf = tfidf.transform(df_features.question2.tolist())\n",
    "    df_features['z_tfidf_sum1'] = np.sum(question1_tfidf, axis = 1)\n",
    "    df_features['z_tfidf_sum2'] = np.sum(question2_tfidf, axis = 1)\n",
    "    df_features['z_tfidf_mean1'] = np.mean(question1_tfidf, axis = 1)\n",
    "    df_features['z_tfidf_mean2'] = np.mean(question2_tfidf, axis = 1)\n",
    "    df_features['z_tfidf_len1'] = (question1_tfidf != 0).sum(axis = 1)\n",
    "    df_features['z_tfidf_len2'] = (question2_tfidf != 0).sum(axis = 1)\n",
    "    \n",
    "    return df_features.fillna(0.0)"
   ]
  },
  {
   "cell_type": "code",
   "execution_count": 15,
   "metadata": {
    "_cell_guid": "2ece3fc5-b7a0-de4c-1241-d38f67789945"
   },
   "outputs": [
    {
     "name": "stdout",
     "output_type": "stream",
     "text": [
      "jaccard...\n",
      "cosine....\n",
      "length....\n",
      "difflib...\n",
      "word match...\n",
      "tfidf...\n"
     ]
    }
   ],
   "source": [
    "df_train = get_features(df_train)"
   ]
  },
  {
   "cell_type": "code",
   "execution_count": 16,
   "metadata": {
    "_cell_guid": "86a8b1e2-ac5b-124b-5e59-1ab2b9e733ba"
   },
   "outputs": [
    {
     "data": {
      "text/html": [
       "<div>\n",
       "<table border=\"1\" class=\"dataframe\">\n",
       "  <thead>\n",
       "    <tr style=\"text-align: right;\">\n",
       "      <th></th>\n",
       "      <th>id</th>\n",
       "      <th>qid1</th>\n",
       "      <th>qid2</th>\n",
       "      <th>question1</th>\n",
       "      <th>question2</th>\n",
       "      <th>is_duplicate</th>\n",
       "      <th>s_question1</th>\n",
       "      <th>s_question2</th>\n",
       "      <th>z_jaccard</th>\n",
       "      <th>z_cosine</th>\n",
       "      <th>...</th>\n",
       "      <th>z_word_len1</th>\n",
       "      <th>z_word_len2</th>\n",
       "      <th>z_match_ratio</th>\n",
       "      <th>z_word_match</th>\n",
       "      <th>z_tfidf_sum1</th>\n",
       "      <th>z_tfidf_sum2</th>\n",
       "      <th>z_tfidf_mean1</th>\n",
       "      <th>z_tfidf_mean2</th>\n",
       "      <th>z_tfidf_len1</th>\n",
       "      <th>z_tfidf_len2</th>\n",
       "    </tr>\n",
       "  </thead>\n",
       "  <tbody>\n",
       "    <tr>\n",
       "      <th>0</th>\n",
       "      <td>0</td>\n",
       "      <td>1</td>\n",
       "      <td>2</td>\n",
       "      <td>What is the step by step guide to invest in sh...</td>\n",
       "      <td>What is the step by step guide to invest in sh...</td>\n",
       "      <td>0</td>\n",
       "      <td>[3, 4, 2, 1394, 55, 1394, 2940, 8, 519, 9, 748...</td>\n",
       "      <td>[3, 4, 2, 1394, 55, 1394, 2940, 8, 519, 9, 748...</td>\n",
       "      <td>0.230769</td>\n",
       "      <td>0.075758</td>\n",
       "      <td>...</td>\n",
       "      <td>14</td>\n",
       "      <td>12</td>\n",
       "      <td>0.926829</td>\n",
       "      <td>0.727273</td>\n",
       "      <td>2.240002</td>\n",
       "      <td>2.088038</td>\n",
       "      <td>0.000026</td>\n",
       "      <td>0.000024</td>\n",
       "      <td>6</td>\n",
       "      <td>5</td>\n",
       "    </tr>\n",
       "    <tr>\n",
       "      <th>1</th>\n",
       "      <td>1</td>\n",
       "      <td>3</td>\n",
       "      <td>4</td>\n",
       "      <td>What is the story of Kohinoor (Koh-i-Noor) Dia...</td>\n",
       "      <td>What would happen if the Indian government sto...</td>\n",
       "      <td>0</td>\n",
       "      <td>[3, 4, 2, 749, 10, 18336, 37977, 13264]</td>\n",
       "      <td>[3, 42, 174, 24, 2, 82, 242, 13821, 2, 18336, ...</td>\n",
       "      <td>0.750000</td>\n",
       "      <td>0.041667</td>\n",
       "      <td>...</td>\n",
       "      <td>8</td>\n",
       "      <td>13</td>\n",
       "      <td>0.705036</td>\n",
       "      <td>0.307692</td>\n",
       "      <td>2.201585</td>\n",
       "      <td>2.716808</td>\n",
       "      <td>0.000026</td>\n",
       "      <td>0.000032</td>\n",
       "      <td>5</td>\n",
       "      <td>8</td>\n",
       "    </tr>\n",
       "    <tr>\n",
       "      <th>2</th>\n",
       "      <td>2</td>\n",
       "      <td>5</td>\n",
       "      <td>6</td>\n",
       "      <td>How can I increase the speed of my internet co...</td>\n",
       "      <td>How can Internet speed be increased by hacking...</td>\n",
       "      <td>0</td>\n",
       "      <td>[5, 14, 6, 179, 2, 467, 10, 18, 522, 2556, 166...</td>\n",
       "      <td>[5, 14, 522, 467, 26, 4253, 55, 2125, 181, 37684]</td>\n",
       "      <td>0.800000</td>\n",
       "      <td>0.028571</td>\n",
       "      <td>...</td>\n",
       "      <td>14</td>\n",
       "      <td>10</td>\n",
       "      <td>0.772727</td>\n",
       "      <td>0.363636</td>\n",
       "      <td>2.419526</td>\n",
       "      <td>2.198229</td>\n",
       "      <td>0.000028</td>\n",
       "      <td>0.000026</td>\n",
       "      <td>6</td>\n",
       "      <td>5</td>\n",
       "    </tr>\n",
       "    <tr>\n",
       "      <th>3</th>\n",
       "      <td>3</td>\n",
       "      <td>7</td>\n",
       "      <td>8</td>\n",
       "      <td>Why am I mentally very lonely? How can I solve...</td>\n",
       "      <td>Find the remainder when [math]23^{24}[/math] i...</td>\n",
       "      <td>0</td>\n",
       "      <td>[17, 67, 6, 3010, 254, 5384, 5, 14, 6, 546, 113]</td>\n",
       "      <td>[80, 2, 4564, 37, 151370, 4, 2517, 55, 151371]</td>\n",
       "      <td>1.000000</td>\n",
       "      <td>0.000000</td>\n",
       "      <td>...</td>\n",
       "      <td>11</td>\n",
       "      <td>9</td>\n",
       "      <td>0.573913</td>\n",
       "      <td>0.000000</td>\n",
       "      <td>1.724631</td>\n",
       "      <td>2.165024</td>\n",
       "      <td>0.000020</td>\n",
       "      <td>0.000025</td>\n",
       "      <td>3</td>\n",
       "      <td>5</td>\n",
       "    </tr>\n",
       "    <tr>\n",
       "      <th>4</th>\n",
       "      <td>4</td>\n",
       "      <td>9</td>\n",
       "      <td>10</td>\n",
       "      <td>Which one dissolve in water quikly sugar, salt...</td>\n",
       "      <td>Which fish would survive in salt water?</td>\n",
       "      <td>0</td>\n",
       "      <td>[23, 50, 8304, 9, 276, 56358, 32069, 34647, 19...</td>\n",
       "      <td>[23, 2371, 42, 1359, 9, 2317, 811]</td>\n",
       "      <td>0.888889</td>\n",
       "      <td>0.021978</td>\n",
       "      <td>...</td>\n",
       "      <td>13</td>\n",
       "      <td>7</td>\n",
       "      <td>0.626087</td>\n",
       "      <td>0.000000</td>\n",
       "      <td>2.947620</td>\n",
       "      <td>1.986790</td>\n",
       "      <td>0.000034</td>\n",
       "      <td>0.000023</td>\n",
       "      <td>9</td>\n",
       "      <td>4</td>\n",
       "    </tr>\n",
       "  </tbody>\n",
       "</table>\n",
       "<p>5 rows × 22 columns</p>\n",
       "</div>"
      ],
      "text/plain": [
       "   id  qid1  qid2                                          question1  \\\n",
       "0   0     1     2  What is the step by step guide to invest in sh...   \n",
       "1   1     3     4  What is the story of Kohinoor (Koh-i-Noor) Dia...   \n",
       "2   2     5     6  How can I increase the speed of my internet co...   \n",
       "3   3     7     8  Why am I mentally very lonely? How can I solve...   \n",
       "4   4     9    10  Which one dissolve in water quikly sugar, salt...   \n",
       "\n",
       "                                           question2  is_duplicate  \\\n",
       "0  What is the step by step guide to invest in sh...             0   \n",
       "1  What would happen if the Indian government sto...             0   \n",
       "2  How can Internet speed be increased by hacking...             0   \n",
       "3  Find the remainder when [math]23^{24}[/math] i...             0   \n",
       "4            Which fish would survive in salt water?             0   \n",
       "\n",
       "                                         s_question1  \\\n",
       "0  [3, 4, 2, 1394, 55, 1394, 2940, 8, 519, 9, 748...   \n",
       "1            [3, 4, 2, 749, 10, 18336, 37977, 13264]   \n",
       "2  [5, 14, 6, 179, 2, 467, 10, 18, 522, 2556, 166...   \n",
       "3   [17, 67, 6, 3010, 254, 5384, 5, 14, 6, 546, 113]   \n",
       "4  [23, 50, 8304, 9, 276, 56358, 32069, 34647, 19...   \n",
       "\n",
       "                                         s_question2  z_jaccard  z_cosine  \\\n",
       "0  [3, 4, 2, 1394, 55, 1394, 2940, 8, 519, 9, 748...   0.230769  0.075758   \n",
       "1  [3, 42, 174, 24, 2, 82, 242, 13821, 2, 18336, ...   0.750000  0.041667   \n",
       "2  [5, 14, 522, 467, 26, 4253, 55, 2125, 181, 37684]   0.800000  0.028571   \n",
       "3     [80, 2, 4564, 37, 151370, 4, 2517, 55, 151371]   1.000000  0.000000   \n",
       "4                 [23, 2371, 42, 1359, 9, 2317, 811]   0.888889  0.021978   \n",
       "\n",
       "       ...       z_word_len1  z_word_len2  z_match_ratio  z_word_match  \\\n",
       "0      ...                14           12       0.926829      0.727273   \n",
       "1      ...                 8           13       0.705036      0.307692   \n",
       "2      ...                14           10       0.772727      0.363636   \n",
       "3      ...                11            9       0.573913      0.000000   \n",
       "4      ...                13            7       0.626087      0.000000   \n",
       "\n",
       "   z_tfidf_sum1  z_tfidf_sum2  z_tfidf_mean1  z_tfidf_mean2  z_tfidf_len1  \\\n",
       "0      2.240002      2.088038       0.000026       0.000024             6   \n",
       "1      2.201585      2.716808       0.000026       0.000032             5   \n",
       "2      2.419526      2.198229       0.000028       0.000026             6   \n",
       "3      1.724631      2.165024       0.000020       0.000025             3   \n",
       "4      2.947620      1.986790       0.000034       0.000023             9   \n",
       "\n",
       "   z_tfidf_len2  \n",
       "0             5  \n",
       "1             8  \n",
       "2             5  \n",
       "3             5  \n",
       "4             4  \n",
       "\n",
       "[5 rows x 22 columns]"
      ]
     },
     "execution_count": 16,
     "metadata": {},
     "output_type": "execute_result"
    }
   ],
   "source": [
    "df_train.head()"
   ]
  },
  {
   "cell_type": "code",
   "execution_count": 17,
   "metadata": {
    "_cell_guid": "1873a0d2-a608-13e4-a59f-99e92a181479"
   },
   "outputs": [],
   "source": [
    "col = [c for c in df_train.columns if c[:1]=='z']"
   ]
  },
  {
   "cell_type": "code",
   "execution_count": 18,
   "metadata": {
    "_cell_guid": "8147369d-bd5d-d6e0-b192-9b38db444a71"
   },
   "outputs": [],
   "source": [
    "x_train, x_valid, y_train, y_valid = train_test_split(df_train[col], df_train['is_duplicate'], test_size=0.2, random_state=0)"
   ]
  },
  {
   "cell_type": "code",
   "execution_count": 19,
   "metadata": {
    "_cell_guid": "e00d4e81-0461-1fb4-d727-a953c2e00c43"
   },
   "outputs": [
    {
     "name": "stdout",
     "output_type": "stream",
     "text": [
      "[0]\ttrain-logloss:0.686018\tvalid-logloss:0.686032\n",
      "Multiple eval metrics have been passed: 'valid-logloss' will be used for early stopping.\n",
      "\n",
      "Will train until valid-logloss hasn't improved in 50 rounds.\n",
      "[100]\ttrain-logloss:0.473475\tvalid-logloss:0.47404\n",
      "[200]\ttrain-logloss:0.447331\tvalid-logloss:0.448135\n",
      "[300]\ttrain-logloss:0.440429\tvalid-logloss:0.441342\n",
      "[400]\ttrain-logloss:0.436194\tvalid-logloss:0.437216\n",
      "[499]\ttrain-logloss:0.432856\tvalid-logloss:0.434128\n"
     ]
    }
   ],
   "source": [
    "params = {}\n",
    "params[\"objective\"] = \"binary:logistic\"\n",
    "params['eval_metric'] = 'logloss'\n",
    "params[\"eta\"] = 0.02\n",
    "params[\"subsample\"] = 0.7\n",
    "params[\"min_child_weight\"] = 1\n",
    "params[\"colsample_bytree\"] = 0.7\n",
    "params[\"max_depth\"] = 4\n",
    "params[\"silent\"] = 1\n",
    "params[\"seed\"] = 1632\n",
    "\n",
    "d_train = xgb.DMatrix(x_train, label=y_train)\n",
    "d_valid = xgb.DMatrix(x_valid, label=y_valid)\n",
    "watchlist = [(d_train, 'train'), (d_valid, 'valid')]\n",
    "bst = xgb.train(params, d_train, 500, watchlist, \n",
    "                early_stopping_rounds=50, \n",
    "                verbose_eval=100) #change to higher #s"
   ]
  },
  {
   "cell_type": "code",
   "execution_count": 20,
   "metadata": {
    "_cell_guid": "7e68546d-dab0-1926-68ec-c6e366aa6048"
   },
   "outputs": [
    {
     "name": "stdout",
     "output_type": "stream",
     "text": [
      "0.433110204009\n"
     ]
    }
   ],
   "source": [
    "print(log_loss(df_train.is_duplicate, bst.predict(xgb.DMatrix(df_train[col]))))"
   ]
  },
  {
   "cell_type": "code",
   "execution_count": 21,
   "metadata": {
    "_cell_guid": "31680b99-1985-6f60-d161-df751f7f7086"
   },
   "outputs": [
    {
     "name": "stdout",
     "output_type": "stream",
     "text": [
      "jaccard...\n",
      "cosine....\n",
      "length....\n",
      "difflib...\n",
      "word match...\n",
      "tfidf...\n"
     ]
    }
   ],
   "source": [
    "df_test = get_features(df_test)\n",
    "\n",
    "sub = pd.DataFrame()\n",
    "sub['test_id'] = df_test['test_id']\n",
    "sub['is_duplicate'] = bst.predict(xgb.DMatrix(df_test[col]))"
   ]
  },
  {
   "cell_type": "code",
   "execution_count": 22,
   "metadata": {
    "_cell_guid": "d5d7fa8f-646c-3c04-38b3-0add53cab11e"
   },
   "outputs": [],
   "source": [
    "sub.to_csv('zmix_submission_xgb_01.csv', index=False)"
   ]
  },
  {
   "cell_type": "code",
   "execution_count": 23,
   "metadata": {
    "_cell_guid": "ff537cd5-a1ad-fc46-a5a0-84b1c58f9112"
   },
   "outputs": [
    {
     "data": {
      "image/png": "[encoded data removed]",
      "text/plain": [
       "<matplotlib.figure.Figure at 0x7fc41dd25c50>"
      ]
     },
     "metadata": {},
     "output_type": "display_data"
    }
   ],
   "source": [
    "import matplotlib.pyplot as plt\n",
    "import seaborn as sns\n",
    "%matplotlib inline\n",
    "\n",
    "plt.rcParams['figure.figsize'] = (7.0, 7.0)\n",
    "xgb.plot_importance(bst); plt.show()"
   ]
  },
  {
   "cell_type": "code",
   "execution_count": 24,
   "metadata": {
    "_cell_guid": "715b88d9-37cd-3379-b8c9-544a6250ce9e"
   },
   "outputs": [],
   "source": []
  }
 ],
 "metadata": {
  "_change_revision": 3,
  "_is_fork": false,
  "kernelspec": {
   "display_name": "Python 3",
   "language": "python",
   "name": "python3"
  },
  "language_info": {
   "codemirror_mode": {
    "name": "ipython",
    "version": 3
   },
   "file_extension": ".py",
   "mimetype": "text/x-python",
   "name": "python",
   "nbconvert_exporter": "python",
   "pygments_lexer": "ipython3",
   "version": "3.6.0"
  }
 },
 "nbformat": 4,
 "nbformat_minor": 0
}
